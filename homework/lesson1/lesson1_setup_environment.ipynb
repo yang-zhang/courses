{
 "cells": [
  {
   "cell_type": "markdown",
   "metadata": {},
   "source": [
    "# git setup\n",
    "```\n",
    "http://kbroman.org/github_tutorial/pages/fork.html\n",
    "git clone https://github.com/yang-zhang/courses.git\n",
    "git remote add fastai git://github.com/fastai/courses.git\n",
    "git remote -v\n",
    "```"
   ]
  },
  {
   "cell_type": "markdown",
   "metadata": {},
   "source": [
    "# local setup\n",
    "\n",
    "in .bash_profile:\n",
    "```\n",
    "PYTHONPATH=\"/Users/yangzhang/secrets:$PYTHONPATH\"\n",
    "export PYTHONPATH\n",
    "```\n",
    "Change to theano backend:\n",
    "```\n",
    "open ~/.keras/keras.json and change to\n",
    "{\n",
    "    \"image_dim_ordering\": \"th\", \n",
    "    \"epsilon\": 1e-07, \n",
    "    \"floatx\": \"float32\", \n",
    "    \"backend\": \"theano\"\n",
    "}\n",
    "```\n",
    "\n",
    "Add secrets to python path. In .bash_profile:\n",
    "```\n",
    "PYTHONPATH=\"/Users/yangzhang/secrets:$PYTHONPATH\"\n",
    "export PYTHONPATH\n",
    "```"
   ]
  },
  {
   "cell_type": "markdown",
   "metadata": {},
   "source": [
    "# aws setup\n",
    "\n",
    "Connect to your instance: \n",
    "```\n",
    "ssh -i [].pem ubuntu@ec2-[ec2 ip].us-west-2.compute.amazonaws.com\n",
    "http://[ec2 ip]:8888/\n",
    "notebook pw: dl_course\n",
    "```\n",
    "In the box: \n",
    "```\n",
    "rm .bash_history\n",
    "```\n",
    "\n",
    "Kaggle:\n",
    "```\n",
    "pip install kaggle-cli\n",
    "\n",
    "kg config -g -u [kaggle user] -p [kaggle pw] -c dogs-vs-cats-redux-kernels-edition\n",
    "kg download\n",
    "\n",
    "sudo apt install unzip\n",
    "unzip train.zip\n",
    "unzip test.zip\n",
    "```"
   ]
  }
 ],
 "metadata": {
  "anaconda-cloud": {},
  "kernelspec": {
   "display_name": "Python 3",
   "language": "python",
   "name": "python3"
  },
  "language_info": {
   "codemirror_mode": {
    "name": "ipython",
    "version": 3
   },
   "file_extension": ".py",
   "mimetype": "text/x-python",
   "name": "python",
   "nbconvert_exporter": "python",
   "pygments_lexer": "ipython3",
   "version": "3.6.0"
  }
 },
 "nbformat": 4,
 "nbformat_minor": 1
}
