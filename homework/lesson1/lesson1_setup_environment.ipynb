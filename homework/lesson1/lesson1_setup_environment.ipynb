{
 "cells": [
  {
   "cell_type": "markdown",
   "metadata": {},
   "source": [
    "# git setup"
   ]
  },
  {
   "cell_type": "raw",
   "metadata": {},
   "source": [
    "http://kbroman.org/github_tutorial/pages/fork.html\n",
    "git clone https://github.com/yang-zhang/courses.git\n",
    "git remote add fastai git://github.com/fastai/courses.git\n",
    "git remote -v"
   ]
  },
  {
   "cell_type": "markdown",
   "metadata": {},
   "source": [
    "# aws setup"
   ]
  },
  {
   "cell_type": "raw",
   "metadata": {},
   "source": [
    "In the box: rm .bash_history\n",
    "\n",
    "pip install kaggle-cli\n",
    "\n",
    "kg config -g -u [kaggle user] -p [kaggle pw] -c dogs-vs-cats-redux-kernels-edition\n",
    "kg download\n",
    "\n",
    "sudo apt install unzip\n",
    "unzip train.zip\n",
    "unzip test.zip"
   ]
  },
  {
   "cell_type": "markdown",
   "metadata": {},
   "source": [
    "# local setup"
   ]
  },
  {
   "cell_type": "raw",
   "metadata": {},
   "source": [
    "Change to theano backend:\n",
    "open ~/.keras/keras.json and change to\n",
    "{\n",
    "    \"image_dim_ordering\": \"th\", \n",
    "    \"epsilon\": 1e-07, \n",
    "    \"floatx\": \"float32\", \n",
    "    \"backend\": \"theano\"\n",
    "}"
   ]
  },
  {
   "cell_type": "code",
   "execution_count": null,
   "metadata": {
    "collapsed": true
   },
   "outputs": [],
   "source": []
  }
 ],
 "metadata": {
  "anaconda-cloud": {},
  "kernelspec": {
   "display_name": "Python [default]",
   "language": "python",
   "name": "python2"
  },
  "language_info": {
   "codemirror_mode": {
    "name": "ipython",
    "version": 2
   },
   "file_extension": ".py",
   "mimetype": "text/x-python",
   "name": "python",
   "nbconvert_exporter": "python",
   "pygments_lexer": "ipython2",
   "version": "2.7.12"
  }
 },
 "nbformat": 4,
 "nbformat_minor": 1
}
