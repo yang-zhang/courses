{
 "cells": [
  {
   "cell_type": "markdown",
   "metadata": {},
   "source": [
    "# Homework\n",
    "[Dogs vs. Cats Redux: Kernels Edition](https://www.kaggle.com/c/dogs-vs-cats-redux-kernels-edition)"
   ]
  },
  {
   "cell_type": "code",
   "execution_count": 1,
   "metadata": {
    "collapsed": false,
    "scrolled": false
   },
   "outputs": [
    {
     "name": "stderr",
     "output_type": "stream",
     "text": [
      "/Users/yangzhang/anaconda/lib/python2.7/site-packages/matplotlib/font_manager.py:273: UserWarning: Matplotlib is building the font cache using fc-list. This may take a moment.\n",
      "  warnings.warn('Matplotlib is building the font cache using fc-list. This may take a moment.')\n",
      "Using Theano backend.\n"
     ]
    }
   ],
   "source": [
    "%matplotlib inline\n",
    "\n",
    "import sys\n",
    "import os\n",
    "\n",
    "#import modules\n",
    "sys.path.append('../../deeplearning1/nbs')\n",
    "from utils import *\n",
    "from vgg16 import Vgg16\n",
    "\n",
    "sys.path.append('..')\n",
    "from env import KAGGLE_USER, KAGGLE_PW, COURSE_DIR"
   ]
  },
  {
   "cell_type": "code",
   "execution_count": 2,
   "metadata": {
    "collapsed": true
   },
   "outputs": [],
   "source": [
    "DOGSCATS_KAGGLE_RAW_DIR = COURSE_DIR+'data/dogscats_kaggle_raw'\n",
    "DOGSCATS_KAGGLE_DIR = COURSE_DIR+'data/dogscats_kaggle'"
   ]
  },
  {
   "cell_type": "markdown",
   "metadata": {},
   "source": [
    "# Download kaggle data (do it only once)"
   ]
  },
  {
   "cell_type": "code",
   "execution_count": 3,
   "metadata": {
    "collapsed": false
   },
   "outputs": [
    {
     "name": "stdout",
     "output_type": "stream",
     "text": [
      "/Users/yangzhang/git/PracticalDeepLearningforCoders/courses/data/dogscats_kaggle_raw\n"
     ]
    }
   ],
   "source": [
    "%mkdir -p $DOGSCATS_KAGGLE_RAW_DIR\n",
    "%cd $DOGSCATS_KAGGLE_RAW_DIR\n",
    "# !pip install kaggle-cli"
   ]
  },
  {
   "cell_type": "code",
   "execution_count": 5,
   "metadata": {
    "collapsed": true
   },
   "outputs": [
    {
     "name": "stdout",
     "output_type": "stream",
     "text": [
      "downloading https://www.kaggle.com/c/dogs-vs-cats-redux-kernels-edition/download/test.zip\n",
      "^CTraceback (most recent call last):\n",
      "  File \"/Users/yangzhang/anaconda/bin/kg\", line 11, in <module>\n",
      "    load_entry_point('kaggle-cli==0.6.0', 'console_scripts', 'kg')()\n",
      "  File \"/Users/yangzhang/anaconda/lib/python2.7/site-packages/kaggle_cli/main.py\", line 19, in main\n",
      "    return app.run(argv)\n",
      "  File \"/Users/yangzhang/anaconda/lib/python2.7/site-packages/cliff/app.py\", line 279, in run\n",
      "    result = self.run_subcommand(remainder)\n",
      "  File \"/Users/yangzhang/anaconda/lib/python2.7/site-packages/cliff/app.py\", line 400, in run_subcommand\n",
      "    result = cmd.run(parsed_args)\n",
      "  File \"/Users/yangzhang/anaconda/lib/python2.7/site-packages/cliff/command.py\", line 90, in run\n",
      "    return self.take_action(parsed_args) or 0\n",
      "  File \"/Users/yangzhang/anaconda/lib/python2.7/site-packages/kaggle_cli/download.py\", line 32, in take_action\n",
      "    self.download_file(browser, url)\n",
      "  File \"/Users/yangzhang/anaconda/lib/python2.7/site-packages/kaggle_cli/download.py\", line 43, in download_file\n",
      "    for chunk in stream.iter_content(chunk_size=1024): \n",
      "  File \"/Users/yangzhang/anaconda/lib/python2.7/site-packages/requests/models.py\", line 703, in generate\n",
      "    for chunk in self.raw.stream(chunk_size, decode_content=True):\n",
      "  File \"/Users/yangzhang/anaconda/lib/python2.7/site-packages/requests/packages/urllib3/response.py\", line 432, in stream\n",
      "    data = self.read(amt=amt, decode_content=decode_content)\n",
      "  File \"/Users/yangzhang/anaconda/lib/python2.7/site-packages/requests/packages/urllib3/response.py\", line 380, in read\n",
      "    data = self._fp.read(amt)\n",
      "  File \"/Users/yangzhang/anaconda/lib/python2.7/httplib.py\", line 612, in read\n",
      "    s = self.fp.read(amt)\n",
      "  File \"/Users/yangzhang/anaconda/lib/python2.7/socket.py\", line 384, in read\n",
      "    data = self._sock.recv(left)\n",
      "  File \"/Users/yangzhang/anaconda/lib/python2.7/site-packages/requests/packages/urllib3/contrib/pyopenssl.py\", line 233, in recv\n",
      "    data = self.connection.recv(*args, **kwargs)\n",
      "  File \"/Users/yangzhang/anaconda/lib/python2.7/site-packages/OpenSSL/SSL.py\", line 1303, in recv\n",
      "    result = _lib.SSL_read(self._ssl, buf, bufsiz)\n",
      "KeyboardInterrupt\n"
     ]
    }
   ],
   "source": [
    "# %%bash -s \"$KAGGLE_USER\" \"$KAGGLE_PW\" \n",
    "!kg config -g -u $KAGGLE_USER -p $KAGGLE_PW -c dogs-vs-cats-redux-kernels-edition\n",
    "!kg download"
   ]
  },
  {
   "cell_type": "code",
   "execution_count": null,
   "metadata": {
    "collapsed": true
   },
   "outputs": [],
   "source": [
    "unzip test.zip\n",
    "unzip train.zip"
   ]
  },
  {
   "cell_type": "code",
   "execution_count": null,
   "metadata": {
    "collapsed": true
   },
   "outputs": [],
   "source": [
    "%mkdir -p $DOGSCATS_KAGGLE_DIR\n",
    "\n",
    "%mv $DOGSCATS_KAGGLE_RAW_DIR'train' $DOGSCATS_KAGGLE_DIR\n",
    "%mv $DOGSCATS_KAGGLE_RAW_DIR'test' $DOGSCATS_KAGGLE_DIR"
   ]
  },
  {
   "cell_type": "markdown",
   "metadata": {},
   "source": [
    "# Reorg data (do it only once)"
   ]
  },
  {
   "cell_type": "markdown",
   "metadata": {},
   "source": [
    "## Create folders"
   ]
  },
  {
   "cell_type": "code",
   "execution_count": null,
   "metadata": {
    "collapsed": true
   },
   "outputs": [],
   "source": [
    "%cd $DOGSCATS_KAGGLE_DIR\n",
    "%mkdir valid\n",
    "%mkdir results\n",
    "%mkdir -p sample/train\n",
    "%mkdir -p sample/test/unknown\n",
    "%mkdir -p sample/valid\n",
    "%mkdir -p sample/results\n",
    "%mkdir -p test/unknown"
   ]
  },
  {
   "cell_type": "markdown",
   "metadata": {},
   "source": [
    "## Move some training files to valid and copy some to sample"
   ]
  },
  {
   "cell_type": "code",
   "execution_count": null,
   "metadata": {
    "collapsed": true
   },
   "outputs": [],
   "source": [
    "%cd $DOGSCATS_KAGGLE_DIR/train"
   ]
  },
  {
   "cell_type": "code",
   "execution_count": null,
   "metadata": {
    "collapsed": true
   },
   "outputs": [],
   "source": [
    "g = glob('*.jpg')\n",
    "shuf = np.random.permutation(g)\n",
    "for i in range(2000):\n",
    "    os.rename(shuf[i], DOGSCATS_KAGGLE_DIR+'valid/'+shuf[i])"
   ]
  },
  {
   "cell_type": "code",
   "execution_count": null,
   "metadata": {
    "collapsed": true
   },
   "outputs": [],
   "source": [
    "from shutil import copyfile"
   ]
  },
  {
   "cell_type": "code",
   "execution_count": null,
   "metadata": {
    "collapsed": true
   },
   "outputs": [],
   "source": [
    "g = glob('*.jpg')\n",
    "shuf = np.random.permutation(g)\n",
    "for i in range(500):\n",
    "    copyfile(shuf[i], DOGSCATS_KAGGLE_DIR+'sample/train/'+shuf[i])"
   ]
  },
  {
   "cell_type": "code",
   "execution_count": null,
   "metadata": {
    "collapsed": true
   },
   "outputs": [],
   "source": [
    "%cd $DOGSCATS_KAGGLE_DIR'valid/'"
   ]
  },
  {
   "cell_type": "code",
   "execution_count": null,
   "metadata": {
    "collapsed": true
   },
   "outputs": [],
   "source": [
    "g = glob('*.jpg')\n",
    "shuf = np.random.permutation(g)\n",
    "for i in range(20):\n",
    "    copyfile(shuf[i], DOGSCATS_KAGGLE_DIR+'sample/valid/'+shuf[i])"
   ]
  },
  {
   "cell_type": "code",
   "execution_count": null,
   "metadata": {
    "collapsed": true
   },
   "outputs": [],
   "source": [
    "%cd $DOGSCATS_KAGGLE_DIR/test"
   ]
  },
  {
   "cell_type": "code",
   "execution_count": null,
   "metadata": {
    "collapsed": true
   },
   "outputs": [],
   "source": [
    "g = glob('*.jpg')\n",
    "shuf = np.random.permutation(g)\n",
    "for i in range(20):\n",
    "    copyfile(shuf[i], DOGSCATS_KAGGLE_DIR+'/sample/test/'+shuf[i])"
   ]
  },
  {
   "cell_type": "markdown",
   "metadata": {},
   "source": [
    "## Rearrange data into labeled folders"
   ]
  },
  {
   "cell_type": "code",
   "execution_count": null,
   "metadata": {
    "collapsed": true
   },
   "outputs": [],
   "source": [
    "%cd $DOGSCATS_KAGGLE_DIR/train\n",
    "%mkdir dogs\n",
    "%mkdir cats\n",
    "%mv dog.*.jpg dogs/\n",
    "%mv cat.*.jpg cats/"
   ]
  },
  {
   "cell_type": "code",
   "execution_count": null,
   "metadata": {
    "collapsed": true
   },
   "outputs": [],
   "source": [
    "%cd $DOGSCATS_KAGGLE_DIR/valid\n",
    "%mkdir dogs\n",
    "%mkdir cats\n",
    "%mv dog.*.jpg dogs/\n",
    "%mv cat.*.jpg cats/"
   ]
  },
  {
   "cell_type": "code",
   "execution_count": null,
   "metadata": {
    "collapsed": true
   },
   "outputs": [],
   "source": [
    "%cd $DOGSCATS_KAGGLE_DIR/test\n",
    "%mv *.jpg unknown/"
   ]
  },
  {
   "cell_type": "code",
   "execution_count": null,
   "metadata": {
    "collapsed": true
   },
   "outputs": [],
   "source": [
    "%cd $DOGSCATS_KAGGLE_DIR/sample/train\n",
    "%mkdir dogs\n",
    "%mkdir cats\n",
    "%mv dog.*.jpg dogs/\n",
    "%mv cat.*.jpg cats/\n",
    "\n",
    "%cd $DOGSCATS_KAGGLE_DIR/sample/valid\n",
    "%mkdir dogs\n",
    "%mkdir cats\n",
    "%mv dog.*.jpg dogs/\n",
    "%mv cat.*.jpg cats/\n",
    "\n",
    "%cd $DOGSCATS_KAGGLE_DIR/sample/test\n",
    "%mv *.jpg unknown/"
   ]
  },
  {
   "cell_type": "markdown",
   "metadata": {},
   "source": [
    "# Train and Finetune"
   ]
  },
  {
   "cell_type": "code",
   "execution_count": 41,
   "metadata": {
    "collapsed": false
   },
   "outputs": [],
   "source": [
    "path = DOGSCATS_KAGGLE_DIR # + '/sample'\n",
    "test_path = path + '/test/'\n",
    "results_path = path + '/results/'\n",
    "train_path = path + '/train/'\n",
    "valid_path = path + '/valid/'"
   ]
  },
  {
   "cell_type": "code",
   "execution_count": 42,
   "metadata": {
    "collapsed": false,
    "scrolled": true
   },
   "outputs": [
    {
     "name": "stderr",
     "output_type": "stream",
     "text": [
      "/Users/yangzhang/anaconda/lib/python2.7/site-packages/keras/layers/core.py:621: UserWarning: `output_shape` argument not specified for layer lambda_1 and cannot be automatically inferred with the Theano backend. Defaulting to output shape `(None, 3, 224, 224)` (same as input shape). If the expected output shape is different, specify it via the `output_shape` argument.\n",
      "  .format(self.name, input_shape))\n"
     ]
    }
   ],
   "source": [
    "vgg = Vgg16()"
   ]
  },
  {
   "cell_type": "code",
   "execution_count": 43,
   "metadata": {
    "collapsed": true
   },
   "outputs": [],
   "source": [
    "batch_size = 4"
   ]
  },
  {
   "cell_type": "code",
   "execution_count": 44,
   "metadata": {
    "collapsed": true
   },
   "outputs": [],
   "source": [
    "no_of_epochs = 3"
   ]
  },
  {
   "cell_type": "code",
   "execution_count": 45,
   "metadata": {
    "collapsed": false
   },
   "outputs": [
    {
     "name": "stdout",
     "output_type": "stream",
     "text": [
      "Found 23000 images belonging to 2 classes.\n"
     ]
    }
   ],
   "source": [
    "batches = vgg.get_batches(train_path, batch_size=batch_size)"
   ]
  },
  {
   "cell_type": "code",
   "execution_count": 46,
   "metadata": {
    "collapsed": false,
    "scrolled": true
   },
   "outputs": [
    {
     "name": "stdout",
     "output_type": "stream",
     "text": [
      "Found 2000 images belonging to 2 classes.\n"
     ]
    }
   ],
   "source": [
    "val_batches = vgg.get_batches(valid_path, batch_size=batch_size*2)"
   ]
  },
  {
   "cell_type": "code",
   "execution_count": 47,
   "metadata": {
    "collapsed": true
   },
   "outputs": [],
   "source": [
    "vgg.finetune(batches)"
   ]
  },
  {
   "cell_type": "code",
   "execution_count": 48,
   "metadata": {
    "collapsed": true
   },
   "outputs": [],
   "source": [
    "vgg.model.optimizer.lr = 0.01"
   ]
  },
  {
   "cell_type": "code",
   "execution_count": 49,
   "metadata": {
    "collapsed": true
   },
   "outputs": [],
   "source": [
    "latest_weights_filename = None"
   ]
  },
  {
   "cell_type": "code",
   "execution_count": 50,
   "metadata": {
    "collapsed": false,
    "scrolled": true
   },
   "outputs": [
    {
     "name": "stdout",
     "output_type": "stream",
     "text": [
      "Running epoch 0\n",
      "Epoch 1/1\n",
      "23000/23000 [==============================] - 12246s - loss: 0.6239 - acc: 0.9577 - val_loss: 0.3104 - val_acc: 0.9805\n",
      "Running epoch 1\n",
      "Epoch 1/1\n",
      "23000/23000 [==============================] - 13348s - loss: 0.5180 - acc: 0.9668 - val_loss: 0.4005 - val_acc: 0.9750\n",
      "Running epoch 2\n",
      "Epoch 1/1\n",
      "23000/23000 [==============================] - 11284s - loss: 0.5221 - acc: 0.9669 - val_loss: 0.2624 - val_acc: 0.9835\n",
      "Completed 3 fit operations\n"
     ]
    }
   ],
   "source": [
    "for epoch in range(no_of_epochs):\n",
    "    print 'Running epoch %d' % epoch\n",
    "    vgg.fit(batches, val_batches, nb_epoch=1)\n",
    "    latest_weights_filename='ft%d.h5' % epoch\n",
    "    vgg.model.save_weights(results_path + latest_weights_filename)\n",
    "print 'Completed %d fit operations' % no_of_epochs"
   ]
  },
  {
   "cell_type": "markdown",
   "metadata": {},
   "source": [
    "# Make Prediction"
   ]
  },
  {
   "cell_type": "code",
   "execution_count": 51,
   "metadata": {
    "collapsed": false,
    "scrolled": true
   },
   "outputs": [
    {
     "name": "stdout",
     "output_type": "stream",
     "text": [
      "Found 12500 images belonging to 1 classes.\n"
     ]
    }
   ],
   "source": [
    "batches, preds = vgg.test(test_path, batch_size=batch_size*2)"
   ]
  },
  {
   "cell_type": "code",
   "execution_count": 52,
   "metadata": {
    "collapsed": true
   },
   "outputs": [],
   "source": [
    "filenames = batches.filenames"
   ]
  },
  {
   "cell_type": "code",
   "execution_count": 53,
   "metadata": {
    "collapsed": false
   },
   "outputs": [],
   "source": [
    "save_array(results_path+'test_pred.dat', preds)\n",
    "save_array(results_path+'filenames.dat', filenames)"
   ]
  },
  {
   "cell_type": "markdown",
   "metadata": {},
   "source": [
    "# Submit Predictions to Kaggle!"
   ]
  },
  {
   "cell_type": "code",
   "execution_count": 66,
   "metadata": {
    "collapsed": true
   },
   "outputs": [],
   "source": [
    "preds = load_array(results_path+'test_pred.dat')\n",
    "filenames = load_array(results_path+'filenames.dat')"
   ]
  },
  {
   "cell_type": "code",
   "execution_count": 67,
   "metadata": {
    "collapsed": true
   },
   "outputs": [],
   "source": [
    "is_dog = preds[:,1]\n",
    "\n",
    "is_dog = is_dog.clip(min=0.05, max=0.95)"
   ]
  },
  {
   "cell_type": "code",
   "execution_count": 56,
   "metadata": {
    "collapsed": true
   },
   "outputs": [],
   "source": [
    "ids = np.array([int(flnm[flnm.find('/')+1:flnm.find('.')]) for flnm in filenames])\n",
    "\n",
    "subm = np.stack([ids, is_dog], axis=1)"
   ]
  },
  {
   "cell_type": "code",
   "execution_count": 72,
   "metadata": {
    "collapsed": true
   },
   "outputs": [],
   "source": [
    "submission_file_name = results_path+'submission_3.csv'\n",
    "np.savetxt(submission_file_name, subm, fmt='%d,%.5f', header='id,label', delimiter=',', comments='')"
   ]
  },
  {
   "cell_type": "code",
   "execution_count": 63,
   "metadata": {
    "collapsed": false,
    "scrolled": true
   },
   "outputs": [
    {
     "name": "stderr",
     "output_type": "stream",
     "text": [
      "\n"
     ]
    }
   ],
   "source": [
    "%%bash -s \"$submission_file_name\" \"$KAGGLE_USER\" \"$KAGGLE_PW\" \n",
    "kg submit $1 -u $2 -p $3 -m \"Plain run of vgg on training data\""
   ]
  }
 ],
 "metadata": {
  "anaconda-cloud": {},
  "kernelspec": {
   "display_name": "Python [default]",
   "language": "python",
   "name": "python2"
  },
  "language_info": {
   "codemirror_mode": {
    "name": "ipython",
    "version": 2
   },
   "file_extension": ".py",
   "mimetype": "text/x-python",
   "name": "python",
   "nbconvert_exporter": "python",
   "pygments_lexer": "ipython2",
   "version": "2.7.12"
  }
 },
 "nbformat": 4,
 "nbformat_minor": 1
}
