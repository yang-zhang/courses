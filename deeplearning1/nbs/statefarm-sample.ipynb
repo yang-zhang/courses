{
 "cells": [
  {
   "cell_type": "markdown",
   "metadata": {},
   "source": [
    "# Enter State Farm"
   ]
  },
  {
   "cell_type": "code",
   "execution_count": 1,
   "metadata": {},
   "outputs": [
    {
     "name": "stderr",
     "output_type": "stream",
     "text": [
      "WARNING (theano.sandbox.cuda): The cuda backend is deprecated and will be removed in the next release (v0.10).  Please switch to the gpuarray backend. You can get more information about how to switch at this URL:\n",
      " https://github.com/Theano/Theano/wiki/Converting-to-the-new-gpu-back-end%28gpuarray%29\n",
      "\n",
      "Using gpu device 0: GeForce GTX 1060 6GB (CNMeM is disabled, cuDNN 5110)\n",
      "WARNING (theano.sandbox.cuda): The cuda backend is deprecated and will be removed in the next release (v0.10).  Please switch to the gpuarray backend. You can get more information about how to switch at this URL:\n",
      " https://github.com/Theano/Theano/wiki/Converting-to-the-new-gpu-back-end%28gpuarray%29\n",
      "\n",
      "WARNING (theano.sandbox.cuda): Ignoring call to use(1), GPU number 0 is already in use.\n"
     ]
    }
   ],
   "source": [
    "from theano.sandbox import cuda\n",
    "cuda.use('gpu1')"
   ]
  },
  {
   "cell_type": "code",
   "execution_count": 2,
   "metadata": {},
   "outputs": [
    {
     "name": "stderr",
     "output_type": "stream",
     "text": [
      "Using Theano backend.\n"
     ]
    }
   ],
   "source": [
    "%matplotlib inline\n",
    "from __future__ import print_function, division\n",
    "#path = \"data/state/\"\n",
    "path = \"/opt/notebooks/data/state-farm-distracted-driver-detection/sample/\"\n",
    "import utils; reload(utils)\n",
    "from utils import *\n",
    "from IPython.display import FileLink"
   ]
  },
  {
   "cell_type": "code",
   "execution_count": 3,
   "metadata": {
    "collapsed": true
   },
   "outputs": [],
   "source": [
    "batch_size=32"
   ]
  },
  {
   "cell_type": "code",
   "execution_count": 7,
   "metadata": {},
   "outputs": [
    {
     "name": "stdout",
     "output_type": "stream",
     "text": [
      "img_1230.jpg   img_19246.jpg  img_40930.jpg  img_65981.jpg  img_87846.jpg\r\n",
      "img_15565.jpg  img_20994.jpg  img_47634.jpg  img_68180.jpg  img_92203.jpg\r\n",
      "img_16494.jpg  img_23996.jpg  img_50577.jpg  img_72977.jpg  img_9678.jpg\r\n",
      "img_17811.jpg  img_27618.jpg  img_61788.jpg  img_85072.jpg  img_99012.jpg\r\n"
     ]
    }
   ],
   "source": [
    "ls $path/train/c0"
   ]
  },
  {
   "cell_type": "markdown",
   "metadata": {
    "heading_collapsed": true
   },
   "source": [
    "## Create sample\n",
    "\n",
    "The following assumes you've already created your validation set - remember that the training and validation set should contain *different drivers*, as mentioned on the Kaggle competition page.\n",
    "\n",
    "%cd data/state\n",
    "\n",
    "%cd train\n",
    "\n",
    "%mkdir ../sample\n",
    "%mkdir ../sample/train\n",
    "%mkdir ../sample/valid\n",
    "\n",
    "for d in glob('c?'):\n",
    "    os.mkdir('../sample/train/'+d)\n",
    "    os.mkdir('../sample/valid/'+d)\n",
    "\n",
    "from shutil import copyfile\n",
    "\n",
    "g = glob('c?/*.jpg')\n",
    "shuf = np.random.permutation(g)\n",
    "for i in range(1500): copyfile(shuf[i], '../sample/train/' + shuf[i])\n",
    "\n",
    "%cd ../valid\n",
    "\n",
    "g = glob('c?/*.jpg')\n",
    "shuf = np.random.permutation(g)\n",
    "for i in range(1000): copyfile(shuf[i], '../sample/valid/' + shuf[i])\n",
    "\n",
    "%cd ../../..\n",
    "\n",
    "%mkdir data/state/results\n",
    "\n",
    "%mkdir data/state/sample/test"
   ]
  },
  {
   "cell_type": "markdown",
   "metadata": {},
   "source": [
    "## Create batches"
   ]
  },
  {
   "cell_type": "code",
   "execution_count": 25,
   "metadata": {
    "scrolled": true
   },
   "outputs": [
    {
     "name": "stdout",
     "output_type": "stream",
     "text": [
      "Found 1492 images belonging to 10 classes.\n",
      "Found 979 images belonging to 10 classes.\n"
     ]
    }
   ],
   "source": [
    "batches = get_batches(path+'train', batch_size=batch_size)\n",
    "val_batches = get_batches(path+'valid', batch_size=batch_size*2, shuffle=False)"
   ]
  },
  {
   "cell_type": "code",
   "execution_count": 11,
   "metadata": {},
   "outputs": [
    {
     "name": "stdout",
     "output_type": "stream",
     "text": [
      "Found 1492 images belonging to 10 classes.\n",
      "Found 979 images belonging to 10 classes.\n",
      "Found 0 images belonging to 0 classes.\n"
     ]
    }
   ],
   "source": [
    "(val_classes, trn_classes, val_labels, trn_labels, val_filenames, filenames,\n",
    "    test_filename) = get_classes(path)"
   ]
  },
  {
   "cell_type": "markdown",
   "metadata": {
    "heading_collapsed": true
   },
   "source": [
    "## Basic models"
   ]
  },
  {
   "cell_type": "markdown",
   "metadata": {
    "heading_collapsed": true,
    "hidden": true
   },
   "source": [
    "### Linear model"
   ]
  },
  {
   "cell_type": "markdown",
   "metadata": {
    "hidden": true
   },
   "source": [
    "First, we try the simplest model and use default parameters. Note the trick of making the first layer a batchnorm layer - that way we don't have to worry about normalizing the input ourselves."
   ]
  },
  {
   "cell_type": "code",
   "execution_count": 12,
   "metadata": {
    "collapsed": true,
    "hidden": true
   },
   "outputs": [],
   "source": [
    "model = Sequential([\n",
    "        BatchNormalization(axis=1, input_shape=(3,224,224)),\n",
    "        Flatten(),\n",
    "        Dense(10, activation='softmax')\n",
    "    ])"
   ]
  },
  {
   "cell_type": "markdown",
   "metadata": {
    "hidden": true
   },
   "source": [
    "As you can see below, this training is going nowhere..."
   ]
  },
  {
   "cell_type": "code",
   "execution_count": 13,
   "metadata": {
    "hidden": true
   },
   "outputs": [
    {
     "name": "stdout",
     "output_type": "stream",
     "text": [
      "Epoch 1/2\n",
      "1492/1492 [==============================] - 22s - loss: 14.0596 - acc: 0.1099 - val_loss: 14.3191 - val_acc: 0.1113\n",
      "Epoch 2/2\n",
      "1492/1492 [==============================] - 19s - loss: 14.3248 - acc: 0.1113 - val_loss: 14.3071 - val_acc: 0.1124\n"
     ]
    },
    {
     "data": {
      "text/plain": [
       "<keras.callbacks.History at 0x7fe9b83df4d0>"
      ]
     },
     "execution_count": 13,
     "metadata": {},
     "output_type": "execute_result"
    }
   ],
   "source": [
    "model.compile(Adam(), loss='categorical_crossentropy', metrics=['accuracy'])\n",
    "model.fit_generator(batches, batches.nb_sample, nb_epoch=2, validation_data=val_batches, \n",
    "                 nb_val_samples=val_batches.nb_sample)"
   ]
  },
  {
   "cell_type": "markdown",
   "metadata": {
    "hidden": true
   },
   "source": [
    "Let's first check the number of parameters to see that there's enough parameters to find some useful relationships:"
   ]
  },
  {
   "cell_type": "code",
   "execution_count": 14,
   "metadata": {
    "hidden": true
   },
   "outputs": [
    {
     "name": "stdout",
     "output_type": "stream",
     "text": [
      "____________________________________________________________________________________________________\n",
      "Layer (type)                     Output Shape          Param #     Connected to                     \n",
      "====================================================================================================\n",
      "batchnormalization_1 (BatchNorma (None, 3, 224, 224)   12          batchnormalization_input_1[0][0] \n",
      "____________________________________________________________________________________________________\n",
      "flatten_1 (Flatten)              (None, 150528)        0           batchnormalization_1[0][0]       \n",
      "____________________________________________________________________________________________________\n",
      "dense_1 (Dense)                  (None, 10)            1505290     flatten_1[0][0]                  \n",
      "====================================================================================================\n",
      "Total params: 1,505,302\n",
      "Trainable params: 1,505,296\n",
      "Non-trainable params: 6\n",
      "____________________________________________________________________________________________________\n"
     ]
    }
   ],
   "source": [
    "model.summary()"
   ]
  },
  {
   "cell_type": "markdown",
   "metadata": {
    "hidden": true
   },
   "source": [
    "Over 1.5 million parameters - that should be enough. Incidentally, it's worth checking you understand why this is the number of parameters in this layer:"
   ]
  },
  {
   "cell_type": "code",
   "execution_count": 15,
   "metadata": {
    "hidden": true
   },
   "outputs": [
    {
     "data": {
      "text/plain": [
       "1505280"
      ]
     },
     "execution_count": 15,
     "metadata": {},
     "output_type": "execute_result"
    }
   ],
   "source": [
    "10*3*224*224"
   ]
  },
  {
   "cell_type": "markdown",
   "metadata": {
    "hidden": true
   },
   "source": [
    "Since we have a simple model with no regularization and plenty of parameters, it seems most likely that our learning rate is too high. Perhaps it is jumping to a solution where it predicts one or two classes with high confidence, so that it can give a zero prediction to as many classes as possible - that's the best approach for a model that is no better than random, and there is likely to be where we would end up with a high learning rate. So let's check:"
   ]
  },
  {
   "cell_type": "code",
   "execution_count": 41,
   "metadata": {
    "hidden": true,
    "scrolled": true
   },
   "outputs": [
    {
     "data": {
      "text/plain": [
       "array([[ 0.,  0.,  0.,  0.,  1.,  0.,  0.,  0.,  0.,  0.],\n",
       "       [ 0.,  0.,  0.,  0.,  1.,  0.,  0.,  0.,  0.,  0.],\n",
       "       [ 0.,  0.,  0.,  0.,  1.,  0.,  0.,  0.,  0.,  0.],\n",
       "       [ 0.,  0.,  0.,  0.,  1.,  0.,  0.,  0.,  0.,  0.],\n",
       "       [ 0.,  0.,  0.,  0.,  1.,  0.,  0.,  0.,  0.,  0.],\n",
       "       [ 0.,  0.,  0.,  0.,  1.,  0.,  0.,  0.,  0.,  0.],\n",
       "       [ 0.,  0.,  0.,  0.,  1.,  0.,  0.,  0.,  0.,  0.],\n",
       "       [ 0.,  0.,  0.,  0.,  1.,  0.,  0.,  0.,  0.,  0.],\n",
       "       [ 0.,  0.,  0.,  0.,  1.,  0.,  0.,  0.,  0.,  0.],\n",
       "       [ 0.,  0.,  0.,  0.,  1.,  0.,  0.,  0.,  0.,  0.]], dtype=float32)"
      ]
     },
     "execution_count": 41,
     "metadata": {},
     "output_type": "execute_result"
    }
   ],
   "source": [
    "np.round(model.predict_generator(batches, batches.n)[:10],2)"
   ]
  },
  {
   "cell_type": "markdown",
   "metadata": {
    "hidden": true
   },
   "source": [
    "Our hypothesis was correct. It's nearly always predicting class 1 or 6, with very high confidence. So let's try a lower learning rate:"
   ]
  },
  {
   "cell_type": "code",
   "execution_count": 44,
   "metadata": {
    "hidden": true,
    "scrolled": true
   },
   "outputs": [
    {
     "name": "stdout",
     "output_type": "stream",
     "text": [
      "Epoch 1/2\n",
      "1492/1492 [==============================] - 22s - loss: 2.2323 - acc: 0.2460 - val_loss: 2.8198 - val_acc: 0.2114\n",
      "Epoch 2/2\n",
      "1492/1492 [==============================] - 19s - loss: 1.5117 - acc: 0.5214 - val_loss: 1.9365 - val_acc: 0.3432\n"
     ]
    },
    {
     "data": {
      "text/plain": [
       "<keras.callbacks.History at 0x7fe9a9ac5850>"
      ]
     },
     "execution_count": 44,
     "metadata": {},
     "output_type": "execute_result"
    }
   ],
   "source": [
    "model = Sequential([\n",
    "        BatchNormalization(axis=1, input_shape=(3,224,224)),\n",
    "        Flatten(),\n",
    "        Dense(10, activation='softmax')\n",
    "    ])\n",
    "model.compile(Adam(lr=1e-5), loss='categorical_crossentropy', metrics=['accuracy'])\n",
    "model.fit_generator(batches, batches.nb_sample, nb_epoch=2, validation_data=val_batches, \n",
    "                 nb_val_samples=val_batches.nb_sample)"
   ]
  },
  {
   "cell_type": "markdown",
   "metadata": {
    "hidden": true
   },
   "source": [
    "Great - we found our way out of that hole... Now we can increase the learning rate and see where we can get to."
   ]
  },
  {
   "cell_type": "code",
   "execution_count": 45,
   "metadata": {
    "collapsed": true,
    "hidden": true
   },
   "outputs": [],
   "source": [
    "model.optimizer.lr=0.001"
   ]
  },
  {
   "cell_type": "code",
   "execution_count": 46,
   "metadata": {
    "hidden": true
   },
   "outputs": [
    {
     "name": "stdout",
     "output_type": "stream",
     "text": [
      "Epoch 1/4\n",
      "1492/1492 [==============================] - 22s - loss: 1.1162 - acc: 0.6790 - val_loss: 1.2518 - val_acc: 0.5781\n",
      "Epoch 2/4\n",
      "1492/1492 [==============================] - 19s - loss: 0.8933 - acc: 0.7849 - val_loss: 1.0714 - val_acc: 0.6762\n",
      "Epoch 3/4\n",
      "1492/1492 [==============================] - 19s - loss: 0.7347 - acc: 0.8365 - val_loss: 0.9415 - val_acc: 0.7201\n",
      "Epoch 4/4\n",
      "1492/1492 [==============================] - 19s - loss: 0.6195 - acc: 0.8800 - val_loss: 0.8418 - val_acc: 0.7681\n"
     ]
    },
    {
     "data": {
      "text/plain": [
       "<keras.callbacks.History at 0x7fe9a987eb90>"
      ]
     },
     "execution_count": 46,
     "metadata": {},
     "output_type": "execute_result"
    }
   ],
   "source": [
    "model.fit_generator(batches, batches.nb_sample, nb_epoch=4, validation_data=val_batches, \n",
    "                 nb_val_samples=val_batches.nb_sample)"
   ]
  },
  {
   "cell_type": "markdown",
   "metadata": {
    "hidden": true
   },
   "source": [
    "We're stabilizing at validation accuracy of 0.39. Not great, but a lot better than random. Before moving on, let's check that our validation set on the sample is large enough that it gives consistent results:"
   ]
  },
  {
   "cell_type": "code",
   "execution_count": 47,
   "metadata": {
    "hidden": true,
    "scrolled": true
   },
   "outputs": [
    {
     "name": "stdout",
     "output_type": "stream",
     "text": [
      "Found 979 images belonging to 10 classes.\n"
     ]
    }
   ],
   "source": [
    "rnd_batches = get_batches(path+'valid', batch_size=batch_size*2, shuffle=True)"
   ]
  },
  {
   "cell_type": "code",
   "execution_count": 48,
   "metadata": {
    "hidden": true
   },
   "outputs": [
    {
     "data": {
      "text/plain": [
       "array([[ 0.84,  0.77],\n",
       "       [ 0.84,  0.77],\n",
       "       [ 0.84,  0.77],\n",
       "       [ 0.84,  0.77],\n",
       "       [ 0.85,  0.76],\n",
       "       [ 0.81,  0.78],\n",
       "       [ 0.85,  0.78],\n",
       "       [ 0.84,  0.77],\n",
       "       [ 0.83,  0.77],\n",
       "       [ 0.84,  0.76]])"
      ]
     },
     "execution_count": 48,
     "metadata": {},
     "output_type": "execute_result"
    }
   ],
   "source": [
    "val_res = [model.evaluate_generator(rnd_batches, rnd_batches.nb_sample) for i in range(10)]\n",
    "np.round(val_res, 2)"
   ]
  },
  {
   "cell_type": "markdown",
   "metadata": {
    "hidden": true
   },
   "source": [
    "Yup, pretty consistent - if we see improvements of 3% or more, it's probably not random, based on the above samples."
   ]
  },
  {
   "cell_type": "markdown",
   "metadata": {
    "heading_collapsed": true,
    "hidden": true
   },
   "source": [
    "### L2 regularization"
   ]
  },
  {
   "cell_type": "markdown",
   "metadata": {
    "hidden": true
   },
   "source": [
    "The previous model is over-fitting a lot, but we can't use dropout since we only have one layer. We can try to decrease overfitting in our model by adding [l2 regularization](http://www.kdnuggets.com/2015/04/preventing-overfitting-neural-networks.html/2) (i.e. add the sum of squares of the weights to our loss function):"
   ]
  },
  {
   "cell_type": "code",
   "execution_count": 49,
   "metadata": {
    "hidden": true
   },
   "outputs": [
    {
     "name": "stdout",
     "output_type": "stream",
     "text": [
      "Epoch 1/2\n",
      "1492/1492 [==============================] - 22s - loss: 5.6825 - acc: 0.3264 - val_loss: 6.2904 - val_acc: 0.3432\n",
      "Epoch 2/2\n",
      "1492/1492 [==============================] - 19s - loss: 2.7018 - acc: 0.6434 - val_loss: 3.1265 - val_acc: 0.5853\n"
     ]
    },
    {
     "data": {
      "text/plain": [
       "<keras.callbacks.History at 0x7fe9a8e221d0>"
      ]
     },
     "execution_count": 49,
     "metadata": {},
     "output_type": "execute_result"
    }
   ],
   "source": [
    "model = Sequential([\n",
    "        BatchNormalization(axis=1, input_shape=(3,224,224)),\n",
    "        Flatten(),\n",
    "        Dense(10, activation='softmax', W_regularizer=l2(0.01))\n",
    "    ])\n",
    "model.compile(Adam(lr=10e-5), loss='categorical_crossentropy', metrics=['accuracy'])\n",
    "model.fit_generator(batches, batches.nb_sample, nb_epoch=2, validation_data=val_batches, \n",
    "                 nb_val_samples=val_batches.nb_sample)"
   ]
  },
  {
   "cell_type": "code",
   "execution_count": 50,
   "metadata": {
    "collapsed": true,
    "hidden": true
   },
   "outputs": [],
   "source": [
    "model.optimizer.lr=0.001"
   ]
  },
  {
   "cell_type": "code",
   "execution_count": 51,
   "metadata": {
    "hidden": true
   },
   "outputs": [
    {
     "name": "stdout",
     "output_type": "stream",
     "text": [
      "Epoch 1/4\n",
      "1492/1492 [==============================] - 22s - loss: 2.1228 - acc: 0.7929 - val_loss: 2.3950 - val_acc: 0.7099\n",
      "Epoch 2/4\n",
      "1492/1492 [==============================] - 19s - loss: 2.1187 - acc: 0.8412 - val_loss: 2.3507 - val_acc: 0.7354\n",
      "Epoch 3/4\n",
      "1492/1492 [==============================] - 19s - loss: 1.9096 - acc: 0.8733 - val_loss: 2.1537 - val_acc: 0.8090\n",
      "Epoch 4/4\n",
      "1492/1492 [==============================] - 19s - loss: 1.8508 - acc: 0.8968 - val_loss: 2.0797 - val_acc: 0.8182\n"
     ]
    },
    {
     "data": {
      "text/plain": [
       "<keras.callbacks.History at 0x7fe9a8214a90>"
      ]
     },
     "execution_count": 51,
     "metadata": {},
     "output_type": "execute_result"
    }
   ],
   "source": [
    "model.fit_generator(batches, batches.nb_sample, nb_epoch=4, validation_data=val_batches, \n",
    "                 nb_val_samples=val_batches.nb_sample)"
   ]
  },
  {
   "cell_type": "markdown",
   "metadata": {
    "hidden": true
   },
   "source": [
    "Looks like we can get a bit over 50% accuracy this way. This will be a good benchmark for our future models - if we can't beat 50%, then we're not even beating a linear model trained on a sample, so we'll know that's not a good approach."
   ]
  },
  {
   "cell_type": "markdown",
   "metadata": {
    "heading_collapsed": true,
    "hidden": true
   },
   "source": [
    "### Single hidden layer"
   ]
  },
  {
   "cell_type": "markdown",
   "metadata": {
    "hidden": true
   },
   "source": [
    "The next simplest model is to add a single hidden layer."
   ]
  },
  {
   "cell_type": "code",
   "execution_count": 52,
   "metadata": {
    "hidden": true,
    "scrolled": false
   },
   "outputs": [
    {
     "name": "stdout",
     "output_type": "stream",
     "text": [
      "Epoch 1/2\n",
      "1492/1492 [==============================] - 22s - loss: 1.8635 - acc: 0.3881 - val_loss: 4.0435 - val_acc: 0.2513\n",
      "Epoch 2/2\n",
      "1492/1492 [==============================] - 19s - loss: 0.9082 - acc: 0.7446 - val_loss: 1.9797 - val_acc: 0.3820\n",
      "Epoch 1/5\n",
      "1492/1492 [==============================] - 22s - loss: 0.5195 - acc: 0.8847 - val_loss: 0.8880 - val_acc: 0.7079\n",
      "Epoch 2/5\n",
      "1492/1492 [==============================] - 19s - loss: 0.3171 - acc: 0.9531 - val_loss: 0.6283 - val_acc: 0.8345\n",
      "Epoch 3/5\n",
      "1492/1492 [==============================] - 19s - loss: 0.2020 - acc: 0.9819 - val_loss: 0.5404 - val_acc: 0.8754\n",
      "Epoch 4/5\n",
      "1492/1492 [==============================] - 19s - loss: 0.1456 - acc: 0.9987 - val_loss: 0.4700 - val_acc: 0.8856\n",
      "Epoch 5/5\n",
      "1492/1492 [==============================] - 19s - loss: 0.1006 - acc: 0.9987 - val_loss: 0.3611 - val_acc: 0.9285\n"
     ]
    },
    {
     "data": {
      "text/plain": [
       "<keras.callbacks.History at 0x7fe9a3177490>"
      ]
     },
     "execution_count": 52,
     "metadata": {},
     "output_type": "execute_result"
    }
   ],
   "source": [
    "model = Sequential([\n",
    "        BatchNormalization(axis=1, input_shape=(3,224,224)),\n",
    "        Flatten(),\n",
    "        Dense(100, activation='relu'),\n",
    "        BatchNormalization(),\n",
    "        Dense(10, activation='softmax')\n",
    "    ])\n",
    "model.compile(Adam(lr=1e-5), loss='categorical_crossentropy', metrics=['accuracy'])\n",
    "model.fit_generator(batches, batches.nb_sample, nb_epoch=2, validation_data=val_batches, \n",
    "                 nb_val_samples=val_batches.nb_sample)\n",
    "\n",
    "model.optimizer.lr = 0.01\n",
    "model.fit_generator(batches, batches.nb_sample, nb_epoch=5, validation_data=val_batches, \n",
    "                 nb_val_samples=val_batches.nb_sample)"
   ]
  },
  {
   "cell_type": "markdown",
   "metadata": {
    "hidden": true
   },
   "source": [
    "Not looking very encouraging... which isn't surprising since we know that CNNs are a much better choice for computer vision problems. So we'll try one."
   ]
  },
  {
   "cell_type": "markdown",
   "metadata": {
    "heading_collapsed": true,
    "hidden": true
   },
   "source": [
    "### Single conv layer"
   ]
  },
  {
   "cell_type": "markdown",
   "metadata": {
    "hidden": true
   },
   "source": [
    "2 conv layers with max pooling followed by a simple dense network is a good simple CNN to start with:"
   ]
  },
  {
   "cell_type": "code",
   "execution_count": 60,
   "metadata": {
    "collapsed": true,
    "hidden": true
   },
   "outputs": [],
   "source": [
    "def conv1(batches):\n",
    "    model = Sequential([\n",
    "            BatchNormalization(axis=1, input_shape=(3,224,224)),\n",
    "            Convolution2D(32,3,3, activation='relu'),\n",
    "            BatchNormalization(axis=1),\n",
    "            MaxPooling2D((3,3)),\n",
    "            Convolution2D(64,3,3, activation='relu'),\n",
    "            BatchNormalization(axis=1),\n",
    "            MaxPooling2D((3,3)),\n",
    "            Flatten(),\n",
    "            Dense(200, activation='relu'),\n",
    "            BatchNormalization(),\n",
    "            Dense(10, activation='softmax')\n",
    "        ])\n",
    "\n",
    "    model.compile(Adam(lr=1e-4), loss='categorical_crossentropy', metrics=['accuracy'])\n",
    "    model.fit_generator(batches, batches.nb_sample, nb_epoch=2, validation_data=val_batches, \n",
    "                     nb_val_samples=val_batches.nb_sample)\n",
    "    model.optimizer.lr = 0.001\n",
    "    model.fit_generator(batches, batches.nb_sample, nb_epoch=4, validation_data=val_batches, \n",
    "                     nb_val_samples=val_batches.nb_sample)\n",
    "    return model"
   ]
  },
  {
   "cell_type": "code",
   "execution_count": 61,
   "metadata": {
    "hidden": true
   },
   "outputs": [
    {
     "name": "stdout",
     "output_type": "stream",
     "text": [
      "Epoch 1/2\n",
      "1492/1492 [==============================] - 23s - loss: 1.4678 - acc: 0.5885 - val_loss: 1.8693 - val_acc: 0.3013\n",
      "Epoch 2/2\n",
      "1492/1492 [==============================] - 20s - loss: 0.3280 - acc: 0.9330 - val_loss: 2.3073 - val_acc: 0.1645\n",
      "Epoch 1/4\n",
      "1492/1492 [==============================] - 23s - loss: 0.0910 - acc: 0.9913 - val_loss: 2.6375 - val_acc: 0.1696\n",
      "Epoch 2/4\n",
      "1492/1492 [==============================] - 20s - loss: 0.0437 - acc: 0.9987 - val_loss: 2.4210 - val_acc: 0.1910\n",
      "Epoch 3/4\n",
      "1492/1492 [==============================] - 20s - loss: 0.0187 - acc: 1.0000 - val_loss: 1.9948 - val_acc: 0.2799\n",
      "Epoch 4/4\n",
      "1492/1492 [==============================] - 20s - loss: 0.0124 - acc: 1.0000 - val_loss: 1.3897 - val_acc: 0.4913\n"
     ]
    },
    {
     "data": {
      "text/plain": [
       "<keras.models.Sequential at 0x7fe9a9a12450>"
      ]
     },
     "execution_count": 61,
     "metadata": {},
     "output_type": "execute_result"
    }
   ],
   "source": [
    "conv1(batches)"
   ]
  },
  {
   "cell_type": "markdown",
   "metadata": {
    "hidden": true
   },
   "source": [
    "The training set here is very rapidly reaching a very high accuracy. So if we could regularize this, perhaps we could get a reasonable result.\n",
    "\n",
    "So, what kind of regularization should we try first? As we discussed in lesson 3, we should start with data augmentation."
   ]
  },
  {
   "cell_type": "markdown",
   "metadata": {
    "heading_collapsed": true
   },
   "source": [
    "## Data augmentation"
   ]
  },
  {
   "cell_type": "markdown",
   "metadata": {
    "hidden": true
   },
   "source": [
    "To find the best data augmentation parameters, we can try each type of data augmentation, one at a time. For each type, we can try four very different levels of augmentation, and see which is the best. In the steps below we've only kept the single best result we found. We're using the CNN we defined above, since we have already observed it can model the data quickly and accurately."
   ]
  },
  {
   "cell_type": "markdown",
   "metadata": {
    "hidden": true
   },
   "source": [
    "Width shift: move the image left and right -"
   ]
  },
  {
   "cell_type": "code",
   "execution_count": 62,
   "metadata": {
    "hidden": true
   },
   "outputs": [
    {
     "name": "stdout",
     "output_type": "stream",
     "text": [
      "Found 1492 images belonging to 10 classes.\n"
     ]
    }
   ],
   "source": [
    "gen_t = image.ImageDataGenerator(width_shift_range=0.1)\n",
    "batches = get_batches(path+'train', gen_t, batch_size=batch_size)"
   ]
  },
  {
   "cell_type": "code",
   "execution_count": 63,
   "metadata": {
    "hidden": true,
    "scrolled": true
   },
   "outputs": [
    {
     "name": "stdout",
     "output_type": "stream",
     "text": [
      "Epoch 1/2\n",
      "1492/1492 [==============================] - 23s - loss: 2.1081 - acc: 0.3492 - val_loss: 2.2570 - val_acc: 0.2033\n",
      "Epoch 2/2\n",
      "1492/1492 [==============================] - 20s - loss: 1.1344 - acc: 0.6535 - val_loss: 2.2897 - val_acc: 0.2257\n",
      "Epoch 1/4\n",
      "1492/1492 [==============================] - 23s - loss: 0.7725 - acc: 0.7681 - val_loss: 2.4583 - val_acc: 0.2676\n",
      "Epoch 2/4\n",
      "1492/1492 [==============================] - 20s - loss: 0.5990 - acc: 0.8271 - val_loss: 2.4890 - val_acc: 0.2840\n",
      "Epoch 3/4\n",
      "1492/1492 [==============================] - 20s - loss: 0.4537 - acc: 0.8686 - val_loss: 2.2959 - val_acc: 0.3115\n",
      "Epoch 4/4\n",
      "1492/1492 [==============================] - 20s - loss: 0.3720 - acc: 0.9068 - val_loss: 1.9331 - val_acc: 0.3269\n"
     ]
    }
   ],
   "source": [
    "model = conv1(batches)"
   ]
  },
  {
   "cell_type": "markdown",
   "metadata": {
    "hidden": true
   },
   "source": [
    "Height shift: move the image up and down -"
   ]
  },
  {
   "cell_type": "code",
   "execution_count": 64,
   "metadata": {
    "hidden": true
   },
   "outputs": [
    {
     "name": "stdout",
     "output_type": "stream",
     "text": [
      "Found 1492 images belonging to 10 classes.\n"
     ]
    }
   ],
   "source": [
    "gen_t = image.ImageDataGenerator(height_shift_range=0.05)\n",
    "batches = get_batches(path+'train', gen_t, batch_size=batch_size)"
   ]
  },
  {
   "cell_type": "code",
   "execution_count": 65,
   "metadata": {
    "hidden": true,
    "scrolled": true
   },
   "outputs": [
    {
     "name": "stdout",
     "output_type": "stream",
     "text": [
      "Epoch 1/2\n",
      "1492/1492 [==============================] - 23s - loss: 1.8756 - acc: 0.4229 - val_loss: 1.8962 - val_acc: 0.3013\n",
      "Epoch 2/2\n",
      "1492/1492 [==============================] - 20s - loss: 0.7905 - acc: 0.7748 - val_loss: 2.0157 - val_acc: 0.2308\n",
      "Epoch 1/4\n",
      "1492/1492 [==============================] - 23s - loss: 0.4326 - acc: 0.8901 - val_loss: 2.1152 - val_acc: 0.2114\n",
      "Epoch 2/4\n",
      "1492/1492 [==============================] - 21s - loss: 0.3213 - acc: 0.9216 - val_loss: 2.1037 - val_acc: 0.2329\n",
      "Epoch 3/4\n",
      "1492/1492 [==============================] - 21s - loss: 0.2307 - acc: 0.9450 - val_loss: 1.8009 - val_acc: 0.3667\n",
      "Epoch 4/4\n",
      "1492/1492 [==============================] - 21s - loss: 0.1549 - acc: 0.9705 - val_loss: 1.5052 - val_acc: 0.4576\n"
     ]
    }
   ],
   "source": [
    "model = conv1(batches)"
   ]
  },
  {
   "cell_type": "markdown",
   "metadata": {
    "hidden": true
   },
   "source": [
    "Random shear angles (max in radians) -"
   ]
  },
  {
   "cell_type": "code",
   "execution_count": 66,
   "metadata": {
    "hidden": true
   },
   "outputs": [
    {
     "name": "stdout",
     "output_type": "stream",
     "text": [
      "Found 1492 images belonging to 10 classes.\n"
     ]
    }
   ],
   "source": [
    "gen_t = image.ImageDataGenerator(shear_range=0.1)\n",
    "batches = get_batches(path+'train', gen_t, batch_size=batch_size)"
   ]
  },
  {
   "cell_type": "code",
   "execution_count": 67,
   "metadata": {
    "hidden": true,
    "scrolled": true
   },
   "outputs": [
    {
     "name": "stdout",
     "output_type": "stream",
     "text": [
      "Epoch 1/2\n",
      "1492/1492 [==============================] - 23s - loss: 1.5939 - acc: 0.5235 - val_loss: 1.9363 - val_acc: 0.3126\n",
      "Epoch 2/2\n",
      "1492/1492 [==============================] - 20s - loss: 0.4387 - acc: 0.8948 - val_loss: 1.7996 - val_acc: 0.4658\n",
      "Epoch 1/4\n",
      "1492/1492 [==============================] - 23s - loss: 0.1663 - acc: 0.9732 - val_loss: 1.8483 - val_acc: 0.4402\n",
      "Epoch 2/4\n",
      "1492/1492 [==============================] - 20s - loss: 0.1074 - acc: 0.9826 - val_loss: 1.6529 - val_acc: 0.4852\n",
      "Epoch 3/4\n",
      "1492/1492 [==============================] - 20s - loss: 0.0629 - acc: 0.9933 - val_loss: 1.3863 - val_acc: 0.5434\n",
      "Epoch 4/4\n",
      "1492/1492 [==============================] - 20s - loss: 0.0392 - acc: 0.9980 - val_loss: 1.1502 - val_acc: 0.6394\n"
     ]
    }
   ],
   "source": [
    "model = conv1(batches)"
   ]
  },
  {
   "cell_type": "markdown",
   "metadata": {
    "hidden": true
   },
   "source": [
    "Rotation: max in degrees -"
   ]
  },
  {
   "cell_type": "code",
   "execution_count": 68,
   "metadata": {
    "hidden": true
   },
   "outputs": [
    {
     "name": "stdout",
     "output_type": "stream",
     "text": [
      "Found 1492 images belonging to 10 classes.\n"
     ]
    }
   ],
   "source": [
    "gen_t = image.ImageDataGenerator(rotation_range=15)\n",
    "batches = get_batches(path+'train', gen_t, batch_size=batch_size)"
   ]
  },
  {
   "cell_type": "code",
   "execution_count": 69,
   "metadata": {
    "hidden": true,
    "scrolled": true
   },
   "outputs": [
    {
     "name": "stdout",
     "output_type": "stream",
     "text": [
      "Epoch 1/2\n",
      "1492/1492 [==============================] - 23s - loss: 1.9397 - acc: 0.4015 - val_loss: 1.9600 - val_acc: 0.3054\n",
      "Epoch 2/2\n",
      "1492/1492 [==============================] - 21s - loss: 0.9311 - acc: 0.7031 - val_loss: 2.4896 - val_acc: 0.1982\n",
      "Epoch 1/4\n",
      "1492/1492 [==============================] - 23s - loss: 0.5907 - acc: 0.8291 - val_loss: 2.7454 - val_acc: 0.1890\n",
      "Epoch 2/4\n",
      "1492/1492 [==============================] - 21s - loss: 0.4201 - acc: 0.8881 - val_loss: 2.6415 - val_acc: 0.2074\n",
      "Epoch 3/4\n",
      "1492/1492 [==============================] - 20s - loss: 0.3005 - acc: 0.9216 - val_loss: 2.3820 - val_acc: 0.2686\n",
      "Epoch 4/4\n",
      "1492/1492 [==============================] - 21s - loss: 0.2412 - acc: 0.9457 - val_loss: 1.8409 - val_acc: 0.3984\n"
     ]
    }
   ],
   "source": [
    "model = conv1(batches)"
   ]
  },
  {
   "cell_type": "markdown",
   "metadata": {
    "hidden": true
   },
   "source": [
    "Channel shift: randomly changing the R,G,B colors - "
   ]
  },
  {
   "cell_type": "code",
   "execution_count": 70,
   "metadata": {
    "hidden": true
   },
   "outputs": [
    {
     "name": "stdout",
     "output_type": "stream",
     "text": [
      "Found 1492 images belonging to 10 classes.\n"
     ]
    }
   ],
   "source": [
    "gen_t = image.ImageDataGenerator(channel_shift_range=20)\n",
    "batches = get_batches(path+'train', gen_t, batch_size=batch_size)"
   ]
  },
  {
   "cell_type": "code",
   "execution_count": 71,
   "metadata": {
    "hidden": true,
    "scrolled": true
   },
   "outputs": [
    {
     "name": "stdout",
     "output_type": "stream",
     "text": [
      "Epoch 1/2\n",
      "1492/1492 [==============================] - 23s - loss: 1.5973 - acc: 0.5295 - val_loss: 1.9671 - val_acc: 0.2411\n",
      "Epoch 2/2\n",
      "1492/1492 [==============================] - 21s - loss: 0.3453 - acc: 0.9323 - val_loss: 2.1853 - val_acc: 0.2431\n",
      "Epoch 1/4\n",
      "1492/1492 [==============================] - 24s - loss: 0.1221 - acc: 0.9832 - val_loss: 2.0035 - val_acc: 0.3657\n",
      "Epoch 2/4\n",
      "1492/1492 [==============================] - 21s - loss: 0.0523 - acc: 0.9966 - val_loss: 1.7710 - val_acc: 0.4402\n",
      "Epoch 3/4\n",
      "1492/1492 [==============================] - 21s - loss: 0.0299 - acc: 0.9993 - val_loss: 1.5061 - val_acc: 0.5424\n",
      "Epoch 4/4\n",
      "1492/1492 [==============================] - 21s - loss: 0.0163 - acc: 0.9993 - val_loss: 1.1494 - val_acc: 0.6404\n"
     ]
    }
   ],
   "source": [
    "model = conv1(batches)"
   ]
  },
  {
   "cell_type": "markdown",
   "metadata": {
    "hidden": true
   },
   "source": [
    "And finally, putting it all together!"
   ]
  },
  {
   "cell_type": "code",
   "execution_count": 72,
   "metadata": {
    "hidden": true,
    "scrolled": true
   },
   "outputs": [
    {
     "name": "stdout",
     "output_type": "stream",
     "text": [
      "Found 1492 images belonging to 10 classes.\n"
     ]
    }
   ],
   "source": [
    "gen_t = image.ImageDataGenerator(rotation_range=15, height_shift_range=0.05, \n",
    "                shear_range=0.1, channel_shift_range=20, width_shift_range=0.1)\n",
    "batches = get_batches(path+'train', gen_t, batch_size=batch_size)"
   ]
  },
  {
   "cell_type": "code",
   "execution_count": 73,
   "metadata": {
    "hidden": true,
    "scrolled": true
   },
   "outputs": [
    {
     "name": "stdout",
     "output_type": "stream",
     "text": [
      "Epoch 1/2\n",
      "1492/1492 [==============================] - 24s - loss: 2.4319 - acc: 0.2487 - val_loss: 2.2317 - val_acc: 0.2288\n",
      "Epoch 2/2\n",
      "1492/1492 [==============================] - 21s - loss: 1.7372 - acc: 0.4082 - val_loss: 2.4512 - val_acc: 0.1971\n",
      "Epoch 1/4\n",
      "1492/1492 [==============================] - 24s - loss: 1.4636 - acc: 0.5127 - val_loss: 2.3592 - val_acc: 0.2176\n",
      "Epoch 2/4\n",
      "1492/1492 [==============================] - 21s - loss: 1.3439 - acc: 0.5597 - val_loss: 2.2422 - val_acc: 0.2237\n",
      "Epoch 3/4\n",
      "1492/1492 [==============================] - 21s - loss: 1.2459 - acc: 0.5992 - val_loss: 2.0603 - val_acc: 0.2523\n",
      "Epoch 4/4\n",
      "1492/1492 [==============================] - 21s - loss: 1.0696 - acc: 0.6682 - val_loss: 1.7732 - val_acc: 0.3105\n"
     ]
    }
   ],
   "source": [
    "model = conv1(batches)"
   ]
  },
  {
   "cell_type": "markdown",
   "metadata": {
    "hidden": true
   },
   "source": [
    "At first glance, this isn't looking encouraging, since the validation set is poor and getting worse. But the training set is getting better, and still has a long way to go in accuracy - so we should try annealing our learning rate and running more epochs, before we make a decisions."
   ]
  },
  {
   "cell_type": "code",
   "execution_count": 74,
   "metadata": {
    "hidden": true,
    "scrolled": false
   },
   "outputs": [
    {
     "name": "stdout",
     "output_type": "stream",
     "text": [
      "Epoch 1/5\n",
      "1492/1492 [==============================] - 24s - loss: 0.9984 - acc: 0.6810 - val_loss: 1.5486 - val_acc: 0.4586\n",
      "Epoch 2/5\n",
      "1492/1492 [==============================] - 21s - loss: 0.9485 - acc: 0.7031 - val_loss: 1.2245 - val_acc: 0.5914\n",
      "Epoch 3/5\n",
      "1492/1492 [==============================] - 21s - loss: 0.8939 - acc: 0.7058 - val_loss: 1.0396 - val_acc: 0.6793\n",
      "Epoch 4/5\n",
      "1492/1492 [==============================] - 21s - loss: 0.8557 - acc: 0.7292 - val_loss: 0.9752 - val_acc: 0.6619\n",
      "Epoch 5/5\n",
      "1492/1492 [==============================] - 21s - loss: 0.8003 - acc: 0.7493 - val_loss: 0.8694 - val_acc: 0.7406\n"
     ]
    },
    {
     "data": {
      "text/plain": [
       "<keras.callbacks.History at 0x7fe99207ea90>"
      ]
     },
     "execution_count": 74,
     "metadata": {},
     "output_type": "execute_result"
    }
   ],
   "source": [
    "model.optimizer.lr = 0.0001\n",
    "model.fit_generator(batches, batches.nb_sample, nb_epoch=5, validation_data=val_batches, \n",
    "                 nb_val_samples=val_batches.nb_sample)"
   ]
  },
  {
   "cell_type": "markdown",
   "metadata": {
    "hidden": true
   },
   "source": [
    "Lucky we tried that - we starting to make progress! Let's keep going."
   ]
  },
  {
   "cell_type": "code",
   "execution_count": 75,
   "metadata": {
    "hidden": true,
    "scrolled": false
   },
   "outputs": [
    {
     "name": "stdout",
     "output_type": "stream",
     "text": [
      "Epoch 1/25\n",
      "1492/1492 [==============================] - 24s - loss: 0.7331 - acc: 0.7768 - val_loss: 0.6920 - val_acc: 0.7773\n",
      "Epoch 2/25\n",
      "1492/1492 [==============================] - 21s - loss: 0.7117 - acc: 0.7842 - val_loss: 0.7008 - val_acc: 0.7804\n",
      "Epoch 3/25\n",
      "1492/1492 [==============================] - 21s - loss: 0.6778 - acc: 0.7909 - val_loss: 0.6303 - val_acc: 0.8121\n",
      "Epoch 4/25\n",
      "1492/1492 [==============================] - 21s - loss: 0.7120 - acc: 0.7768 - val_loss: 0.5875 - val_acc: 0.8253\n",
      "Epoch 5/25\n",
      "1492/1492 [==============================] - 21s - loss: 0.6495 - acc: 0.7902 - val_loss: 0.4930 - val_acc: 0.8498\n",
      "Epoch 6/25\n",
      "1492/1492 [==============================] - 21s - loss: 0.6405 - acc: 0.8050 - val_loss: 0.5636 - val_acc: 0.8202\n",
      "Epoch 7/25\n",
      "1492/1492 [==============================] - 21s - loss: 0.6102 - acc: 0.8257 - val_loss: 0.4297 - val_acc: 0.8836\n",
      "Epoch 8/25\n",
      "1492/1492 [==============================] - 21s - loss: 0.5691 - acc: 0.8210 - val_loss: 0.4217 - val_acc: 0.8856\n",
      "Epoch 9/25\n",
      "1492/1492 [==============================] - 21s - loss: 0.5188 - acc: 0.8378 - val_loss: 0.4234 - val_acc: 0.8754\n",
      "Epoch 10/25\n",
      "1492/1492 [==============================] - 21s - loss: 0.5418 - acc: 0.8345 - val_loss: 0.4255 - val_acc: 0.8713\n",
      "Epoch 11/25\n",
      "1492/1492 [==============================] - 21s - loss: 0.4741 - acc: 0.8639 - val_loss: 0.4562 - val_acc: 0.8693\n",
      "Epoch 12/25\n",
      "1492/1492 [==============================] - 21s - loss: 0.4307 - acc: 0.8773 - val_loss: 0.3900 - val_acc: 0.8723\n",
      "Epoch 13/25\n",
      "1492/1492 [==============================] - 21s - loss: 0.4532 - acc: 0.8613 - val_loss: 0.3975 - val_acc: 0.8774\n",
      "Epoch 14/25\n",
      "1492/1492 [==============================] - 21s - loss: 0.4233 - acc: 0.8807 - val_loss: 0.4098 - val_acc: 0.8682\n",
      "Epoch 15/25\n",
      "1492/1492 [==============================] - 21s - loss: 0.4113 - acc: 0.8794 - val_loss: 0.3591 - val_acc: 0.9030\n",
      "Epoch 16/25\n",
      "1492/1492 [==============================] - 21s - loss: 0.4095 - acc: 0.8773 - val_loss: 0.3481 - val_acc: 0.8938\n",
      "Epoch 17/25\n",
      "1492/1492 [==============================] - 21s - loss: 0.3949 - acc: 0.8747 - val_loss: 0.3756 - val_acc: 0.8856\n",
      "Epoch 18/25\n",
      "1492/1492 [==============================] - 21s - loss: 0.3780 - acc: 0.8854 - val_loss: 0.3447 - val_acc: 0.9040\n",
      "Epoch 19/25\n",
      "1492/1492 [==============================] - 21s - loss: 0.4015 - acc: 0.8834 - val_loss: 0.3059 - val_acc: 0.9142\n",
      "Epoch 20/25\n",
      "1492/1492 [==============================] - 21s - loss: 0.3581 - acc: 0.8968 - val_loss: 0.2892 - val_acc: 0.9193\n",
      "Epoch 21/25\n",
      "1492/1492 [==============================] - 21s - loss: 0.3427 - acc: 0.9021 - val_loss: 0.3395 - val_acc: 0.9040\n",
      "Epoch 22/25\n",
      "1492/1492 [==============================] - 21s - loss: 0.3424 - acc: 0.9008 - val_loss: 0.3321 - val_acc: 0.9050\n",
      "Epoch 23/25\n",
      "1492/1492 [==============================] - 21s - loss: 0.3386 - acc: 0.9015 - val_loss: 0.2966 - val_acc: 0.9183\n",
      "Epoch 24/25\n",
      "1492/1492 [==============================] - 21s - loss: 0.3409 - acc: 0.8981 - val_loss: 0.2719 - val_acc: 0.9173\n",
      "Epoch 25/25\n",
      "1492/1492 [==============================] - 21s - loss: 0.3041 - acc: 0.9169 - val_loss: 0.2517 - val_acc: 0.9336\n"
     ]
    },
    {
     "data": {
      "text/plain": [
       "<keras.callbacks.History at 0x7fe99207e710>"
      ]
     },
     "execution_count": 75,
     "metadata": {},
     "output_type": "execute_result"
    }
   ],
   "source": [
    "model.fit_generator(batches, batches.nb_sample, nb_epoch=25, validation_data=val_batches, \n",
    "                 nb_val_samples=val_batches.nb_sample)"
   ]
  },
  {
   "cell_type": "markdown",
   "metadata": {
    "collapsed": true,
    "hidden": true
   },
   "source": [
    "Amazingly, using nothing but a small sample, a simple (not pre-trained) model with no dropout, and data augmentation, we're getting results that would get us into the top 50% of the competition! This looks like a great foundation for our futher experiments.\n",
    "\n",
    "To go further, we'll need to use the whole dataset, since dropout and data volumes are very related, so we can't tweak dropout without using all the data."
   ]
  }
 ],
 "metadata": {
  "anaconda-cloud": {},
  "kernelspec": {
   "display_name": "Python 2",
   "language": "python",
   "name": "python2"
  },
  "language_info": {
   "codemirror_mode": {
    "name": "ipython",
    "version": 2
   },
   "file_extension": ".py",
   "mimetype": "text/x-python",
   "name": "python",
   "nbconvert_exporter": "python",
   "pygments_lexer": "ipython2",
   "version": "2.7.13"
  },
  "nav_menu": {},
  "nbpresent": {
   "slides": {
    "28b43202-5690-4169-9aca-6b9dabfeb3ec": {
     "id": "28b43202-5690-4169-9aca-6b9dabfeb3ec",
     "prev": null,
     "regions": {
      "3bba644a-cf4d-4a49-9fbd-e2554428cf9f": {
       "attrs": {
        "height": 0.8,
        "width": 0.8,
        "x": 0.1,
        "y": 0.1
       },
       "content": {
        "cell": "f3d3a388-7e2a-4151-9b50-c20498fceacc",
        "part": "whole"
       },
       "id": "3bba644a-cf4d-4a49-9fbd-e2554428cf9f"
      }
     }
    },
    "8104def2-4b68-44a0-8f1b-b03bf3b2a079": {
     "id": "8104def2-4b68-44a0-8f1b-b03bf3b2a079",
     "prev": "28b43202-5690-4169-9aca-6b9dabfeb3ec",
     "regions": {
      "7dded777-1ddf-4100-99ae-25cf1c15b575": {
       "attrs": {
        "height": 0.8,
        "width": 0.8,
        "x": 0.1,
        "y": 0.1
       },
       "content": {
        "cell": "fe47bd48-3414-4657-92e7-8b8d6cb0df00",
        "part": "whole"
       },
       "id": "7dded777-1ddf-4100-99ae-25cf1c15b575"
      }
     }
    }
   },
   "themes": {}
  },
  "toc": {
   "nav_menu": {
    "height": "148px",
    "width": "254px"
   },
   "number_sections": true,
   "sideBar": true,
   "skip_h1_title": false,
   "toc_cell": false,
   "toc_position": {},
   "toc_section_display": "block",
   "toc_window_display": false
  },
  "widgets": {
   "state": {},
   "version": "1.1.2"
  }
 },
 "nbformat": 4,
 "nbformat_minor": 1
}
